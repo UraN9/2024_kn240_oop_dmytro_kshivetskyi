{
 "cells": [
  {
   "cell_type": "markdown",
   "metadata": {},
   "source": [
    "## Вступ до  Обєктно-орієнтованого рпограмування\n",
    "- класи це обстрація а обєкт це конкретне вираження відповідно до класу\n",
    "- ми будемо створювати і нарощувати наш клас у файлі а потім імпортувати його до ноутбука та дивитись як код буде працювати\n",
    "- назви класів завжди починаються з великої букви"
   ]
  },
  {
   "cell_type": "code",
   "execution_count": 5,
   "metadata": {},
   "outputs": [
    {
     "name": "stdout",
     "output_type": "stream",
     "text": [
      "<my_class.MyClass object at 0x1066afb00>\n"
     ]
    }
   ],
   "source": [
    "from my_class import MyClass, MySecondClass\n",
    "\n",
    "a = MyClass()\n",
    "\n",
    "print(a)"
   ]
  },
  {
   "cell_type": "markdown",
   "metadata": {},
   "source": [
    "- потрібно перезавантажувати імпорти для того щоб наш клас був оновлений"
   ]
  },
  {
   "cell_type": "code",
   "execution_count": 23,
   "metadata": {},
   "outputs": [
    {
     "data": {
      "text/plain": [
       "<module 'my_class' from 'c:\\\\Users\\\\Dima\\\\Desktop\\\\2024_kn240_oop_dmytro_kshivetskyi\\\\2024_kn240_oop_dmytro_kshivetskyi\\\\3_lab\\\\my_class.py'>"
      ]
     },
     "execution_count": 23,
     "metadata": {},
     "output_type": "execute_result"
    }
   ],
   "source": [
    "import importlib\n",
    "import my_class\n",
    "\n",
    "importlib.reload(my_class)"
   ]
  },
  {
   "cell_type": "code",
   "execution_count": 4,
   "metadata": {},
   "outputs": [
    {
     "name": "stdout",
     "output_type": "stream",
     "text": [
      "<my_class.MyClass object at 0x1066acd10>\n"
     ]
    }
   ],
   "source": [
    "b = my_class.MyClass()\n",
    "print(b)"
   ]
  },
  {
   "cell_type": "markdown",
   "metadata": {},
   "source": [
    "### Термінології\n",
    "- функція взначена в середині класу наивається `методом`;\n",
    "- один з методів є особливим і називається `конструктором`;\n",
    "- існують також альтернативні коструктори, так звані класові методи;\n",
    "- в класах зʼявляється змінна `self` - вказівник на обʼєкт;\n",
    "- в середині класу є 2 типи змінних - класові змінні та атрибути класу;"
   ]
  },
  {
   "cell_type": "code",
   "execution_count": 17,
   "metadata": {},
   "outputs": [
    {
     "name": "stdout",
     "output_type": "stream",
     "text": [
      "Викликали коструктор!\n",
      "<my_class.MyClass object at 0x10667e690>\n",
      "<my_class.MyClass object at 0x10667e690>\n"
     ]
    }
   ],
   "source": [
    "c = my_class.MyClass()\n",
    "\n",
    "print(c.__repr__()) # представлення обєкту\n",
    "print(c.__str__()) # стрічкове представлення обєкту"
   ]
  },
  {
   "cell_type": "code",
   "execution_count": 21,
   "metadata": {},
   "outputs": [
    {
     "name": "stdout",
     "output_type": "stream",
     "text": [
      "Викликали коструктор!\n",
      "Мій обєкт класу\n"
     ]
    }
   ],
   "source": [
    "c = my_class.MyClass()\n",
    "print(c.__repr__())"
   ]
  },
  {
   "cell_type": "code",
   "execution_count": 24,
   "metadata": {},
   "outputs": [
    {
     "name": "stdout",
     "output_type": "stream",
     "text": [
      "Студент Б Б отримав оцінку 5\n",
      "\n",
      "Студент G Y отримав оцінку 5\n",
      "\n"
     ]
    }
   ],
   "source": [
    "i = 1\n",
    "j = [1, \"1\"]\n",
    "d = {\"Прізвище\": [\"Б\", \"A\", \"G\", \"T\"], \n",
    "     \"Імя\": [\"Б\", \"Д\", \"Y\", \"D\"], \n",
    "     \"Оцінка\": [5, 4, 5, 3]}\n",
    "\n",
    "for i in range(len(d[\"Прізвище\"])):\n",
    "    print(f\"Студент {d[\"Прізвище\"][i]} {d[\"Імя\"][i]} отримав оцінку {d[\"Оцінка\"][i]}\" if d[\"Оцінка\"][i] == 5 else \"\")"
   ]
  },
  {
   "cell_type": "code",
   "execution_count": 25,
   "metadata": {},
   "outputs": [
    {
     "name": "stdout",
     "output_type": "stream",
     "text": [
      "Викликали конструктор!\n",
      "Завершили присвоєння атрибутів\n",
      "Викликали конструктор!\n",
      "Завершили присвоєння атрибутів\n",
      "Викликали конструктор!\n",
      "Завершили присвоєння атрибутів\n",
      "Викликали конструктор!\n",
      "Завершили присвоєння атрибутів\n",
      "Студент Б Б отримав оцінку 5\n",
      "\n",
      "Студент G Y отримав оцінку 5\n",
      "\n",
      "\n",
      "Студент A Д отримав оцінку 4\n",
      "\n",
      "Студент T D отримав оцінку 4\n",
      "-1\n"
     ]
    }
   ],
   "source": [
    "Students = [my_class.MyClass(\"Б\", \"Б\", 5), \n",
    "     my_class.MyClass(\"A\", \"Д\", 4), \n",
    "     my_class.MyClass(\"G\", \"Y\", 5),\n",
    "     my_class.MyClass(\"T\", \"D\", 3) # тут ініціалізується обєкт та задаються атрибути\n",
    "     ]\n",
    "\n",
    "for i in Students:\n",
    "    print(f\"Студент {i.surname} {i.name} отримав оцінку {i.mark}\" if i.mark == 5 else \"\")\n",
    "\n",
    "Students[-1].mark = 4 # але ту ми можемо перевизначити атрибути!\n",
    "\n",
    "for i in Students:\n",
    "    print(f\"Студент {i.surname} {i.name} отримав оцінку {i.mark}\" if i.mark == 4 else \"\")\n",
    "\n",
    "Students[-1].penalty = -1 # динамічний атрибут\n",
    "\n",
    "print(Students[-1].penalty)"
   ]
  }
 ],
 "metadata": {
  "kernelspec": {
   "display_name": "Python 3",
   "language": "python",
   "name": "python3"
  },
  "language_info": {
   "codemirror_mode": {
    "name": "ipython",
    "version": 3
   },
   "file_extension": ".py",
   "mimetype": "text/x-python",
   "name": "python",
   "nbconvert_exporter": "python",
   "pygments_lexer": "ipython3",
   "version": "3.12.3"
  }
 },
 "nbformat": 4,
 "nbformat_minor": 2
}
