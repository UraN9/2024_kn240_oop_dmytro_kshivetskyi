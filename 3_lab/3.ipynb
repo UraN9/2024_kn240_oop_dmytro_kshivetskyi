{
 "cells": [
  {
   "cell_type": "markdown",
   "metadata": {},
   "source": [
    "## Вступ до об'єктно-орієнтованого програмування\n",
    "- класи це абстракція а об'єкт це конкретне вираження відповідно до класу\n",
    "- ми будемо створювати і нарощувати наш клас у файлі, а потім імпортувати його до ноутбука та дивитись як код буде працювати\n",
    "- назви класів завжди починаються з векикої букви"
   ]
  },
  {
   "cell_type": "code",
   "execution_count": 1,
   "metadata": {},
   "outputs": [
    {
     "name": "stdout",
     "output_type": "stream",
     "text": [
      "<my_class.My_class object at 0x000002CA03C0B260>\n"
     ]
    }
   ],
   "source": [
    "from my_class import My_class\n",
    "\n",
    "a = My_class()\n",
    "\n",
    "print(a)"
   ]
  }
 ],
 "metadata": {
  "kernelspec": {
   "display_name": "Python 3",
   "language": "python",
   "name": "python3"
  },
  "language_info": {
   "codemirror_mode": {
    "name": "ipython",
    "version": 3
   },
   "file_extension": ".py",
   "mimetype": "text/x-python",
   "name": "python",
   "nbconvert_exporter": "python",
   "pygments_lexer": "ipython3",
   "version": "3.12.5"
  }
 },
 "nbformat": 4,
 "nbformat_minor": 2
}
