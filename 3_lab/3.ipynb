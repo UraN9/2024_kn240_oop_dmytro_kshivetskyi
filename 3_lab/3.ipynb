{
 "cells": [
  {
   "cell_type": "markdown",
   "metadata": {},
   "source": [
    "## Вступ до  Обєктно-орієнтованого рпограмування\n",
    "- класи це обстрація а обєкт це конкретне вираження відповідно до класу\n",
    "- ми будемо створювати і нарощувати наш клас у файлі а потім імпортувати його до ноутбука та дивитись як код буде працювати\n",
    "- назви класів завжди починаються з великої букви"
   ]
  },
  {
   "cell_type": "code",
   "execution_count": null,
   "metadata": {},
   "outputs": [],
   "source": [
    "from my_class import MyClass, MySecondClass\n",
    "\n",
    "a = MyClass()\n",
    "\n",
    "print(a)"
   ]
  },
  {
   "cell_type": "markdown",
   "metadata": {},
   "source": [
    "- потрібно перезавантажувати імпорти для того щоб наш клас був оновлений"
   ]
  },
  {
   "cell_type": "code",
   "execution_count": 46,
   "metadata": {},
   "outputs": [
    {
     "data": {
      "text/plain": [
       "<module 'my_class' from 'c:\\\\Users\\\\Dima\\\\Desktop\\\\2024_kn240_oop_dmytro_kshivetskyi\\\\2024_kn240_oop_dmytro_kshivetskyi\\\\3_lab\\\\my_class.py'>"
      ]
     },
     "execution_count": 46,
     "metadata": {},
     "output_type": "execute_result"
    }
   ],
   "source": [
    "import importlib\n",
    "import my_class\n",
    "\n",
    "importlib.reload(my_class)"
   ]
  },
  {
   "cell_type": "code",
   "execution_count": null,
   "metadata": {},
   "outputs": [],
   "source": [
    "b = my_class.MyClass()\n",
    "print(b)"
   ]
  },
  {
   "cell_type": "markdown",
   "metadata": {},
   "source": [
    "### Термінології\n",
    "- функція взначена в середині класу наивається `методом`;\n",
    "- один з методів є особливим і називається `конструктором`;\n",
    "- існують також альтернативні коструктори, так звані класові методи;\n",
    "- в класах зʼявляється змінна `self` - вказівник на обʼєкт;\n",
    "- в середині класу є 2 типи змінних - класові змінні та атрибути класу;\n",
    "- існують так звані магічні методи і всі вони мають подвійне підкреслення на початку та в кінці\n",
    "- існують та змінні які не починаються з підкреслення `_` або `__` - з такими значеннями робите що хочите і вони називаються публічними, якщо вже з'являється одинарне підкреслення `_` вони є захищеними і бажано їх не міняти, але ми можемо це робити. З повійним підкресленням `__` називаються приватними і їх вже змінювати не можна."
   ]
  },
  {
   "cell_type": "code",
   "execution_count": 47,
   "metadata": {},
   "outputs": [
    {
     "name": "stdout",
     "output_type": "stream",
     "text": [
      "Викликали конструктор!\n",
      "Завершили присвоєння атрибутів\n",
      "Викликали конструктор!\n",
      "Завершили присвоєння атрибутів\n",
      "MyClass(Ніяких аргументів не переаємо)\n",
      "MyClass(Ніяких аргументів не переаємо)\n",
      "3\n",
      " Це буде клас для експериментів,\n",
      "        його використовуємо для лаб роботи № 3\n",
      "\n",
      "        ---\n",
      "        Atributes:\n",
      "        surname: Прізвище\n",
      "        name: Ім'я\n",
      "        Це буде клас для експериментів,\n",
      "        його використовуємо для лаб роботи № 3\n",
      "\n",
      "        ---\n",
      "        Atributes:\n",
      "        surname: Прізвище\n",
      "        name: Ім'я\n",
      "    \n",
      "Так ніколи не буде\n",
      "None\n",
      "True\n",
      "False\n",
      "Це змінювати не можна\n",
      "Це змінювати не можна\n"
     ]
    }
   ],
   "source": [
    "c = my_class.MyClass(\"Ббб\", \"Ввв\", 5)\n",
    "b = my_class.MyClass(\"fsd\", \"jff\", 5)\n",
    "\n",
    "print(c.__repr__()) # представлення обєкту\n",
    "print(c.__str__()) # стрічкове представлення обєкту\n",
    "\n",
    "print(len(c))\n",
    "\n",
    "print(MyClass.__doc__, c.__doc__)\n",
    "\n",
    "if c == b:\n",
    "    print(\"Так ніколи не буде\")\n",
    "else:\n",
    "    print(\"Так\")\n",
    "\n",
    "print(c==\"1\")\n",
    "\n",
    "print(c._test_protected)\n",
    "c._test_protected = False\n",
    "\n",
    "print(c._test_protected)\n",
    "\n",
    "print(c.print_private_atributes())\n",
    "print(c._MyClass__do_not_touch)"
   ]
  },
  {
   "cell_type": "code",
   "execution_count": null,
   "metadata": {},
   "outputs": [],
   "source": [
    "c = my_class.MyClass()\n",
    "print(c.__repr__())\n",
    "print(c.__str__())"
   ]
  },
  {
   "cell_type": "code",
   "execution_count": null,
   "metadata": {},
   "outputs": [],
   "source": [
    "i = 1\n",
    "j = [1, \"1\"]\n",
    "d = {\"Прізвище\": [\"Б\", \"A\", \"G\", \"T\"], \n",
    "     \"Імя\": [\"Б\", \"Д\", \"Y\", \"D\"], \n",
    "     \"Оцінка\": [5, 4, 5, 3]}\n",
    "\n",
    "for i in range(len(d[\"Прізвище\"])):\n",
    "    print(f\"Студент {d[\"Прізвище\"][i]} {d[\"Імя\"][i]} отримав оцінку {d[\"Оцінка\"][i]}\" if d[\"Оцінка\"][i] == 5 else \"\")"
   ]
  },
  {
   "cell_type": "code",
   "execution_count": null,
   "metadata": {},
   "outputs": [],
   "source": [
    "Students = [my_class.MyClass(\"Б\", \"Б\", 5), \n",
    "     my_class.MyClass(\"A\", \"Д\", 4), \n",
    "     my_class.MyClass(\"G\", \"Y\", 5),\n",
    "     my_class.MyClass(\"T\", \"D\", 3) # тут ініціалізується обєкт та задаються атрибути\n",
    "     ]\n",
    "\n",
    "for i in Students:\n",
    "    print(f\"Студент {i.surname} {i.name} отримав оцінку {i.mark}\" if i.mark == 5 else \"\")\n",
    "\n",
    "Students[-1].mark = 4 # але ту ми можемо перевизначити атрибути!\n",
    "\n",
    "for i in Students:\n",
    "    print(f\"Студент {i.surname} {i.name} отримав оцінку {i.mark}\" if i.mark == 4 else \"\")\n",
    "\n",
    "Students[-1].penalty = -1 # динамічний атрибут\n",
    "\n",
    "print(Students[-1].penalty)"
   ]
  }
 ],
 "metadata": {
  "kernelspec": {
   "display_name": "Python 3",
   "language": "python",
   "name": "python3"
  },
  "language_info": {
   "codemirror_mode": {
    "name": "ipython",
    "version": 3
   },
   "file_extension": ".py",
   "mimetype": "text/x-python",
   "name": "python",
   "nbconvert_exporter": "python",
   "pygments_lexer": "ipython3",
   "version": "3.12.5"
  }
 },
 "nbformat": 4,
 "nbformat_minor": 2
}
