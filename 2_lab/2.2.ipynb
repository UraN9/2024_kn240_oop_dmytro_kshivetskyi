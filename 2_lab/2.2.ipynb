{
 "cells": [
  {
   "cell_type": "markdown",
   "metadata": {},
   "source": [
    "### Основні типи даних в Python"
   ]
  },
  {
   "cell_type": "code",
   "execution_count": 2,
   "metadata": {},
   "outputs": [],
   "source": [
    "a = \"Стрічка\"\n",
    "b = 9\n",
    "b1 = 5.5 \n",
    "c = [\"Я\", 10, 1.25, \"Слово\", a]  # List\n",
    "d = {\"a\": \"Слово\", \"b\": 1, a: b}  # Dict\n",
    "e = (\"a\", a)  # Tuple\n",
    "f = {\"ss\", a + str(b)}  # Set, "
   ]
  },
  {
   "cell_type": "code",
   "execution_count": 3,
   "metadata": {},
   "outputs": [
    {
     "name": "stdout",
     "output_type": "stream",
     "text": [
      "Стрічка 9 5.5 ['Я', 10, 1.25, 'Слово', 'Стрічка'] {'a': 'Слово', 'b': 1, 'Стрічка': 9} ('a', 'Стрічка') {'Стрічка9', 'ss'}\n"
     ]
    }
   ],
   "source": [
    "print(a, b, b1, c, d, e, f)"
   ]
  },
  {
   "cell_type": "markdown",
   "metadata": {},
   "source": [
    "### Вбудовані константи Python"
   ]
  },
  {
   "cell_type": "code",
   "execution_count": 2,
   "metadata": {},
   "outputs": [
    {
     "name": "stdout",
     "output_type": "stream",
     "text": [
      "None\n",
      "True\n",
      "False\n"
     ]
    }
   ],
   "source": [
    "a = None\n",
    "is_valid1 = True\n",
    "is_valid2 = False\n",
    "\n",
    "print(a)\n",
    "print(is_valid1)\n",
    "print(is_valid2)"
   ]
  },
  {
   "cell_type": "markdown",
   "metadata": {},
   "source": [
    "### Вбудовані функції Python"
   ]
  },
  {
   "cell_type": "code",
   "execution_count": 4,
   "metadata": {},
   "outputs": [
    {
     "name": "stdout",
     "output_type": "stream",
     "text": [
      "17\n",
      "15\n",
      "12\n"
     ]
    }
   ],
   "source": [
    "text = \"Привіт, Ангеліна!\"\n",
    "numbers = [1, 2, 3, 4, 5]\n",
    "negative_num = -12\n",
    "\n",
    "print(len(text)) # Рахує кількість символів в рядку\n",
    "print(sum(numbers)) # Додає всі значення\n",
    "print(abs(negative_num)) # Повертає модуль числа"
   ]
  },
  {
   "cell_type": "markdown",
   "metadata": {},
   "source": [
    "### Цикли в Python\n",
    "\n",
    "> Цикл while"
   ]
  },
  {
   "cell_type": "code",
   "execution_count": 5,
   "metadata": {},
   "outputs": [
    {
     "name": "stdout",
     "output_type": "stream",
     "text": [
      "1\n",
      "2\n",
      "3\n",
      "4\n",
      "5\n"
     ]
    }
   ],
   "source": [
    "i = 1\n",
    "while i <= 5:\n",
    "    print(i)\n",
    "    i += 1"
   ]
  },
  {
   "cell_type": "markdown",
   "metadata": {},
   "source": [
    "> Цикл for"
   ]
  },
  {
   "cell_type": "code",
   "execution_count": 6,
   "metadata": {},
   "outputs": [
    {
     "name": "stdout",
     "output_type": "stream",
     "text": [
      "яблуко\n",
      "банан\n",
      "вишня\n"
     ]
    }
   ],
   "source": [
    "fruits = [\"яблуко\", \"банан\", \"вишня\"]\n",
    "for fruit in fruits:\n",
    "    print(fruit)"
   ]
  },
  {
   "cell_type": "markdown",
   "metadata": {},
   "source": [
    "### Розгалуження в Python\n",
    "> 1. Просте розгалуження за допомогою if і else"
   ]
  },
  {
   "cell_type": "code",
   "execution_count": 8,
   "metadata": {},
   "outputs": [
    {
     "name": "stdout",
     "output_type": "stream",
     "text": [
      "Число непарне.\n"
     ]
    }
   ],
   "source": [
    "number = 7\n",
    "\n",
    "if number % 2 == 0:\n",
    "    result = \"Число парне.\"\n",
    "else:\n",
    "    result = \"Число непарне.\"\n",
    "\n",
    "print(result)"
   ]
  },
  {
   "cell_type": "markdown",
   "metadata": {},
   "source": [
    "> Розгалуження з кількома умовами за допомогою if, elif та else"
   ]
  },
  {
   "cell_type": "code",
   "execution_count": 9,
   "metadata": {},
   "outputs": [
    {
     "name": "stdout",
     "output_type": "stream",
     "text": [
      "Добре!\n"
     ]
    }
   ],
   "source": [
    "grade = 85\n",
    "\n",
    "if grade >= 90:\n",
    "    result = \"Відмінно!\"\n",
    "elif grade >= 75:\n",
    "    result = \"Добре!\"\n",
    "elif grade >= 60:\n",
    "    result = \"Задовільно!\"\n",
    "else:\n",
    "    result = \"Незадовільно!\"\n",
    "\n",
    "print(result)"
   ]
  },
  {
   "cell_type": "markdown",
   "metadata": {},
   "source": [
    "### Конструкція _try->except->finally_ в Python"
   ]
  },
  {
   "cell_type": "code",
   "execution_count": 1,
   "metadata": {},
   "outputs": [
    {
     "name": "stdout",
     "output_type": "stream",
     "text": [
      "Помилка: не можна ділити на нуль!\n",
      "Цей рядок виконається незалежно від помилки.\n"
     ]
    }
   ],
   "source": [
    "try:\n",
    "    # Ділення на 0 викличе помилку\n",
    "    result = 10 / 0\n",
    "    print(f\"Результат: {result}\")\n",
    "\n",
    "except ZeroDivisionError:\n",
    "    # Обробляємо помилку ділення на нуль\n",
    "    print(\"Помилка: не можна ділити на нуль!\")\n",
    "\n",
    "finally:\n",
    "    print(\"Цей рядок виконається незалежно від помилки.\")\n"
   ]
  },
  {
   "cell_type": "markdown",
   "metadata": {},
   "source": [
    "### Контекст-менеджер _with_ в Python"
   ]
  },
  {
   "cell_type": "code",
   "execution_count": 8,
   "metadata": {},
   "outputs": [
    {
     "name": "stdout",
     "output_type": "stream",
     "text": [
      "Виводжу цю стрічку, щоб переконатися що код працює\n"
     ]
    }
   ],
   "source": [
    "with open(\"README(with).md\", \"r\", encoding=\"utf-8\") as f:\n",
    "    for line in f:\n",
    "        print(line)\n"
   ]
  },
  {
   "cell_type": "markdown",
   "metadata": {},
   "source": [
    "### Python lambdas"
   ]
  },
  {
   "cell_type": "code",
   "execution_count": 9,
   "metadata": {},
   "outputs": [
    {
     "name": "stdout",
     "output_type": "stream",
     "text": [
      "Результат суми: 15\n"
     ]
    }
   ],
   "source": [
    "# Створюємо лямбда-функцію, яка обчислює суму двох чисел\n",
    "sum_lambda = lambda x, y: x + y\n",
    "\n",
    "# Викликаємо функцію\n",
    "print(\"Результат суми:\", sum_lambda(10, 5))"
   ]
  }
 ],
 "metadata": {
  "kernelspec": {
   "display_name": "Python 3",
   "language": "python",
   "name": "python3"
  },
  "language_info": {
   "codemirror_mode": {
    "name": "ipython",
    "version": 3
   },
   "file_extension": ".py",
   "mimetype": "text/x-python",
   "name": "python",
   "nbconvert_exporter": "python",
   "pygments_lexer": "ipython3",
   "version": "3.12.5"
  }
 },
 "nbformat": 4,
 "nbformat_minor": 2
}
