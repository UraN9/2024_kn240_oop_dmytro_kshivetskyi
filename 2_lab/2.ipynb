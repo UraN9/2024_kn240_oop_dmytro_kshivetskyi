{
 "cells": [
  {
   "cell_type": "markdown",
   "metadata": {},
   "source": [
    "### Стрічкові типи даних"
   ]
  },
  {
   "cell_type": "code",
   "execution_count": 53,
   "metadata": {},
   "outputs": [
    {
     "data": {
      "text/plain": [
       "'Це стрічка 1'"
      ]
     },
     "execution_count": 53,
     "metadata": {},
     "output_type": "execute_result"
    }
   ],
   "source": [
    "a = 'Це стрічка 1'\n",
    "a"
   ]
  },
  {
   "cell_type": "code",
   "execution_count": 54,
   "metadata": {},
   "outputs": [
    {
     "data": {
      "text/plain": [
       "'Це також стрічка'"
      ]
     },
     "execution_count": 54,
     "metadata": {},
     "output_type": "execute_result"
    }
   ],
   "source": [
    "a = \"Це також стрічка\"\n",
    "a "
   ]
  },
  {
   "cell_type": "code",
   "execution_count": 55,
   "metadata": {},
   "outputs": [
    {
     "data": {
      "text/plain": [
       "'\\nЦе буде\\nРозбита на стрічки\\nЗмінна\\n'"
      ]
     },
     "execution_count": 55,
     "metadata": {},
     "output_type": "execute_result"
    }
   ],
   "source": [
    "text = '''\n",
    "Це буде\n",
    "Розбита на стрічки\n",
    "Змінна\n",
    "'''\n",
    "text"
   ]
  },
  {
   "cell_type": "code",
   "execution_count": 56,
   "metadata": {},
   "outputs": [
    {
     "name": "stdout",
     "output_type": "stream",
     "text": [
      "Це буде вивід \n",
      "Це буде\n",
      "Розбита на стрічки\n",
      "Змінна\n",
      " Це також стрічка\n",
      "Це початок:  Це також стрічка Це щось по середині Це буде вивід\n"
     ]
    }
   ],
   "source": [
    "b = \"Це буде вивід\"\n",
    "print(b, text, a)\n",
    "print(\"Це початок: \", a, 'Це щось по середині', b)"
   ]
  },
  {
   "cell_type": "code",
   "execution_count": 57,
   "metadata": {},
   "outputs": [
    {
     "name": "stdout",
     "output_type": "stream",
     "text": [
      "<class 'str'>\n",
      "Це буде стрічка:  <class 'str'> Це буде число:  <class 'int'>\n",
      "<class 'str'> Та її значення:  1\n"
     ]
    }
   ],
   "source": [
    "print(type(b))\n",
    "n = \"1\"\n",
    "nn = 1\n",
    "ss = str(nn)\n",
    "\n",
    "print (\"Це буде стрічка: \", type(n), \"Це буде число: \", type(nn))\n",
    "print (type(ss), \"Та її значення: \", ss)"
   ]
  },
  {
   "cell_type": "markdown",
   "metadata": {},
   "source": [
    "### Чисельні типи даних"
   ]
  },
  {
   "cell_type": "code",
   "execution_count": 58,
   "metadata": {},
   "outputs": [
    {
     "name": "stdout",
     "output_type": "stream",
     "text": [
      "28\n"
     ]
    }
   ],
   "source": [
    "import sys \n",
    "print(sys.getsizeof(nn))"
   ]
  },
  {
   "cell_type": "code",
   "execution_count": 59,
   "metadata": {},
   "outputs": [
    {
     "name": "stdout",
     "output_type": "stream",
     "text": [
      "<class 'int'> 8\n",
      "33\n"
     ]
    }
   ],
   "source": [
    "a = 3\n",
    "b = 5\n",
    "print(type(a), a+b)\n",
    "\n",
    "_ = \"Це стрічка\"\n",
    "c = \"3\"\n",
    "\n",
    "# Це коментар \n",
    "print(str(a) + c) # така операція називається конкатенацією"
   ]
  },
  {
   "cell_type": "code",
   "execution_count": 60,
   "metadata": {},
   "outputs": [
    {
     "name": "stdout",
     "output_type": "stream",
     "text": [
      "Це початок | Це стрічка1\n"
     ]
    }
   ],
   "source": [
    "print(\"Це початок | \" + _ + ss)"
   ]
  },
  {
   "cell_type": "code",
   "execution_count": 61,
   "metadata": {},
   "outputs": [],
   "source": [
    "# тут буде помилка і якщо ми запустимо цей прінт то в нас буде видавати \n",
    "# текст написаний у наступній комірці \n",
    "# print(ss - _)\n",
    "\n",
    "#print(ss - _)"
   ]
  },
  {
   "cell_type": "code",
   "execution_count": 62,
   "metadata": {},
   "outputs": [
    {
     "name": "stdout",
     "output_type": "stream",
     "text": [
      "Це комірка вже буде працювати!\n"
     ]
    }
   ],
   "source": [
    "print(\"Це комірка вже буде працювати!\")"
   ]
  },
  {
   "cell_type": "code",
   "execution_count": 63,
   "metadata": {},
   "outputs": [
    {
     "name": "stdout",
     "output_type": "stream",
     "text": [
      "<class 'int'> 2\n"
     ]
    },
    {
     "data": {
      "text/plain": [
       "0.11000000000000001"
      ]
     },
     "execution_count": 63,
     "metadata": {},
     "output_type": "execute_result"
    }
   ],
   "source": [
    "i = 1\n",
    "f = 1.1\n",
    "d = int(i + f) # Обрізаємо плаваючу крапку\n",
    "print(type(d), d)\n",
    "\n",
    "# Через специфіку Пайтон операції множення/ділення дають цікавий результат\n",
    "\n",
    "0.1 * f"
   ]
  },
  {
   "cell_type": "markdown",
   "metadata": {},
   "source": [
    "## Розгладаємо колекції\n",
    "- List - набір даних різного типу, які можуть повтораювтись\n",
    "- Ми можемо змінювати розмір списку (додавати, забирати, модифікувати)"
   ]
  },
  {
   "cell_type": "code",
   "execution_count": 64,
   "metadata": {},
   "outputs": [
    {
     "name": "stdout",
     "output_type": "stream",
     "text": [
      "Кількість символів 1:  2\n",
      "Витягуємо:  1\n",
      "['end', '1', '2', [1, 2], 2]\n"
     ]
    }
   ],
   "source": [
    "l = [1,2,[1,2],\"1\",\"2\",\"1\"]\n",
    "l.append(\"end\")\n",
    "print(\"Кількість символів 1: \", l.count(\"1\"))\n",
    "l.remove(\"1\")\n",
    "print(\"Витягуємо: \", l.pop(0))\n",
    "l.reverse()\n",
    "print(l)"
   ]
  },
  {
   "cell_type": "markdown",
   "metadata": {},
   "source": [
    "- До елементів списку можна доступатися по індексах"
   ]
  },
  {
   "cell_type": "code",
   "execution_count": 65,
   "metadata": {},
   "outputs": [
    {
     "name": "stdout",
     "output_type": "stream",
     "text": [
      "Список з яким працюємо:  ['end', '1', '2', [1, 2], 2] його довжина  5\n",
      "end 2 2\n"
     ]
    }
   ],
   "source": [
    "print(\"Список з яким працюємо: \", l, \"його довжина \", len(l))\n",
    "print(l[0], l[-1], l[-2][-1])"
   ]
  },
  {
   "cell_type": "markdown",
   "metadata": {},
   "source": [
    "- Dict - колекція даних у вигляді КЛЮЧ = ЗНАЧЕННЯ, кожне значення знаходиться на іменній позиції\n",
    "- Невпорядкована колекція, немає за чим впрорядковувати\n",
    "- Ключ має бути унікальним\n",
    "- Можемо модифікувати, видаляти будь-які елементи"
   ]
  },
  {
   "cell_type": "code",
   "execution_count": 66,
   "metadata": {},
   "outputs": [
    {
     "name": "stdout",
     "output_type": "stream",
     "text": [
      "{'A': 'A', 'a': 'a'}\n",
      "{'A': 'A', 'a': 'a', 0: '0_як_значення'}\n",
      "0 0\n",
      "Один Один\n"
     ]
    }
   ],
   "source": [
    "a = \"A\"\n",
    "d = {a: \"a\", \"a\": \"a\", \"A\": a}\n",
    "print(d)\n",
    "\n",
    "d[0] = \"0_як_значення\"\n",
    "print(d)\n",
    "\n",
    "l = [0,\"Один\",2]\n",
    "d = {0: 0, 1: \"Один\", 2: 2}\n",
    "print(l[0], d[0])\n",
    "print(l[1], d[1])"
   ]
  },
  {
   "cell_type": "markdown",
   "metadata": {},
   "source": [
    "- Tuple - список об'єктів які неможна змінювати після створення (неможна додавати або забирати елементів)\n",
    "- Все решта схожі на List"
   ]
  },
  {
   "cell_type": "code",
   "execution_count": 67,
   "metadata": {},
   "outputs": [
    {
     "name": "stdout",
     "output_type": "stream",
     "text": [
      "<class 'tuple'>\n"
     ]
    }
   ],
   "source": [
    "t = (1,2,3,2,1)\n",
    "print(type(t))"
   ]
  },
  {
   "cell_type": "markdown",
   "metadata": {},
   "source": [
    "- Set - унікальна колекція об'єктів, невпорядкована"
   ]
  },
  {
   "cell_type": "code",
   "execution_count": 68,
   "metadata": {},
   "outputs": [
    {
     "name": "stdout",
     "output_type": "stream",
     "text": [
      "{1, 2, 3}\n",
      "False\n",
      "Витягуємо елемент:  1 Залишолось елементів:  {2}\n"
     ]
    },
    {
     "data": {
      "text/plain": [
       "{1}"
      ]
     },
     "execution_count": 68,
     "metadata": {},
     "output_type": "execute_result"
    }
   ],
   "source": [
    "print(set(t))\n",
    "a = \"Це стрiчкa\" # Тут певні букви є англійські а інші українські\n",
    "b = \"Це стрічка\"\n",
    "print(a.__hash__() == b.__hash__())\n",
    "\n",
    "s = {1,1,2,2}\n",
    "s\n",
    "print(\"Витягуємо елемент: \", s.pop(), \"Залишолось елементів: \", s)\n",
    "ss = set([1])\n",
    "ss"
   ]
  },
  {
   "cell_type": "markdown",
   "metadata": {},
   "source": [
    "### Способи виводу\n",
    "- фотрматування стрічок\n"
   ]
  },
  {
   "cell_type": "code",
   "execution_count": 69,
   "metadata": {},
   "outputs": [
    {
     "name": "stdout",
     "output_type": "stream",
     "text": [
      "Тут буде ВСТАВКА. І далі продовжується РЕЧЕННЯ.\n",
      "Рублячий удар нанесло 10 шкоди. Рублячий удар перестає діяти\n",
      "І тут також ВСТАВКА\n"
     ]
    }
   ],
   "source": [
    "i = \"ВСТАВКА\"\n",
    "j = \"РЕЧЕННЯ\"\n",
    "s = \"Тут буде {}. І далі продовжується {}.\".format(i, j)\n",
    "print(s)\n",
    "skill_name = \"Рублячий удар\"\n",
    "damage = 10\n",
    "e = \"{0} нанесло {1} шкоди. {0} перестає діяти\".format(skill_name, damage)\n",
    "print(e)\n",
    "\n",
    "print(\"І тут також {}\".format(i))"
   ]
  },
  {
   "cell_type": "code",
   "execution_count": 70,
   "metadata": {},
   "outputs": [
    {
     "name": "stdout",
     "output_type": "stream",
     "text": [
      "Так також можна робитии ВСТАВКА\n",
      "Також можна вставляти цифри: 10.00\n"
     ]
    }
   ],
   "source": [
    "print(\"Так також можна робитии %s\" % i)\n",
    "print(\"Також можна вставляти цифри: %.2f\" % 10.0001)"
   ]
  },
  {
   "cell_type": "code",
   "execution_count": 71,
   "metadata": {},
   "outputs": [
    {
     "name": "stdout",
     "output_type": "stream",
     "text": [
      "Це ВСТАВКА за допомогою F-стрічок\n"
     ]
    }
   ],
   "source": [
    "f_string = f\"Це {i} за допомогою F-стрічок\"\n",
    "print(f_string)"
   ]
  },
  {
   "cell_type": "code",
   "execution_count": 72,
   "metadata": {},
   "outputs": [
    {
     "name": "stdout",
     "output_type": "stream",
     "text": [
      "1 Це буде ВСТАВКА на цьому місці\n",
      "2 Це буде ВСТАВКА на цьому місці\n",
      "3 Це буде ВСТАВКА на цьому місці\n",
      "4 Це буде ВСТАВКА на цьому місці\n",
      "5 Це буде ВСТАВКА на цьому місці\n"
     ]
    }
   ],
   "source": [
    "# Тут використовую властивості print щоб зробити вивід\n",
    "print(\"1 Це буде\", i, \"на цьому місці\")\n",
    "\n",
    "# Викоистовую конкатенацію щоб відформатувати стрічку перед виводом\n",
    "s_p = \"2 Це буде \" + str(i) + \" на цьому місці\"\n",
    "print(s_p)\n",
    "\n",
    "# Використовуємо метод форматування для стрічок\n",
    "s_f = \"3 Це буде {0} на цьому місці\".format(i)\n",
    "print(s_f)\n",
    "\n",
    "# Можна через форматований вивід, з явною вказівкою як форматувати\n",
    "s_s = \"4 Це буде %s на цьому місці\" % i\n",
    "print(s_s)\n",
    "\n",
    "# Використання F-стрічок\n",
    "f_f = f\"5 Це буде {i} на цьому місці\"\n",
    "print(f_f)"
   ]
  },
  {
   "cell_type": "markdown",
   "metadata": {},
   "source": [
    "### Константи та вбудовані функції\n",
    "- Не можна перевизначати вбудовані константи, але можна зробити зміні дуже схожі на них"
   ]
  },
  {
   "cell_type": "code",
   "execution_count": 73,
   "metadata": {},
   "outputs": [
    {
     "name": "stdout",
     "output_type": "stream",
     "text": [
      "False\n",
      "Тут вже є значення\n"
     ]
    }
   ],
   "source": [
    "false = False\n",
    "print(false)\n",
    "\n",
    "d = {\"key\": None, None: \"Тут вже є значення\"}\n",
    "print(d[None])\n",
    "# None + 1 ## Це дасть помилку, не можна робити арифметичні операції з None"
   ]
  },
  {
   "cell_type": "code",
   "execution_count": 74,
   "metadata": {},
   "outputs": [
    {
     "name": "stdout",
     "output_type": "stream",
     "text": [
      "None\n"
     ]
    }
   ],
   "source": [
    "def function():\n",
    "    \"\"\"Це буде наша функція\n",
    "    \"\"\"\n",
    "    return\n",
    "\n",
    "print(function())"
   ]
  },
  {
   "cell_type": "markdown",
   "metadata": {},
   "source": [
    "- перевизначити вбудовані функції можна, але вони повністю можуть поламати функціонал Python і його роботу"
   ]
  },
  {
   "cell_type": "code",
   "execution_count": 75,
   "metadata": {},
   "outputs": [],
   "source": [
    "# def print():\n",
    "#     return 0\n",
    "\n",
    "# print()"
   ]
  },
  {
   "cell_type": "markdown",
   "metadata": {},
   "source": [
    "### Беремо цикли\n",
    "- `for` - ітераційний цикл\n",
    "- `while` - умовний цикл\n",
    "- Хоча цикли унікальні і використовуються під певні задачі, ми можемо розвязати задачу використовуючи будь-який з циклів\n",
    "- Спробуємо використати два цикли на одній задачі: ми витягуємо M&Ms з пачки"
   ]
  },
  {
   "cell_type": "code",
   "execution_count": 76,
   "metadata": {},
   "outputs": [
    {
     "name": "stdout",
     "output_type": "stream",
     "text": [
      "1) Нам попалась Жовтий ммдемска\n",
      "2) Нам попалась Жовтий ммдемска\n",
      "3) Нам попалась Коричневий ммдемска\n",
      "4) Нам попалась Синій ммдемска\n",
      "5) Нам попалась Червоний ммдемска\n",
      "6) Нам попалась Зелений ммдемска\n",
      "7) Нам попалась Синій ммдемска\n",
      "8) Нам попалась Синій ммдемска\n",
      "9) Нам попалась Коричневий ммдемска\n",
      "10) Нам попалась Зелений ммдемска\n",
      "11) Нам попалась Синій ммдемска\n",
      "12) Нам попалась Жовтий ммдемска\n",
      "13) Нам попалась Червоний ммдемска\n",
      "14) Нам попалась Коричневий ммдемска\n",
      "15) Нам попалась Синій ммдемска\n",
      "16) Нам попалась Жовтий ммдемска\n",
      "17) Нам попалась Червоний ммдемска\n",
      "18) Нам попалась Коричневий ммдемска\n",
      "19) Нам попалась Зелений ммдемска\n",
      "20) Нам попалась Червоний ммдемска\n"
     ]
    }
   ],
   "source": [
    "from random import randint\n",
    "m_m = ['Червоний', 'Жовтий', 'Зелений', 'Синій', 'Коричневий']\n",
    "\n",
    "N = 20 # Кількість M&Ms в пачці\n",
    "for i in range(N): # Ми 20 разів будемо брати M&Ms\n",
    "    print(f\"{i+1}) Нам попалась {m_m[randint(0,len(m_m)-1)]} ммдемска\")"
   ]
  },
  {
   "cell_type": "code",
   "execution_count": 77,
   "metadata": {},
   "outputs": [
    {
     "name": "stdout",
     "output_type": "stream",
     "text": [
      "1) Нам попалась Синій ммдемска\n",
      "2) Нам попалась Жовтий ммдемска\n",
      "3) Нам попалась Коричневий ммдемска\n",
      "4) Нам попалась Коричневий ммдемска\n",
      "5) Нам попалась Синій ммдемска\n",
      "6) Нам попалась Коричневий ммдемска\n",
      "7) Нам попалась Жовтий ммдемска\n",
      "8) Нам попалась Синій ммдемска\n",
      "9) Нам попалась Синій ммдемска\n",
      "10) Нам попалась Жовтий ммдемска\n",
      "11) Нам попалась Червоний ммдемска\n",
      "12) Нам попалась Синій ммдемска\n",
      "13) Нам попалась Жовтий ммдемска\n",
      "14) Нам попалась Зелений ммдемска\n",
      "15) Нам попалась Червоний ммдемска\n",
      "16) Нам попалась Жовтий ммдемска\n",
      "17) Нам попалась Коричневий ммдемска\n",
      "18) Нам попалась Синій ммдемска\n",
      "19) Нам попалась Коричневий ммдемска\n",
      "20) Нам попалась Жовтий ммдемска\n"
     ]
    }
   ],
   "source": [
    "m = 1\n",
    "while m  <= 20:\n",
    "    print(f\"{m}) Нам попалась {m_m[randint(0,len(m_m)-1)]} ммдемска\")\n",
    "    m += 1 # Щоб ітерації не були вічними інкрементуємо змінну"
   ]
  },
  {
   "cell_type": "markdown",
   "metadata": {},
   "source": [
    "Різниці між циклами немає, однак через те що ми знаємо що в пачці 20 Ммдемсок то краще нам використовувати ітераційний цикл. Якщо б задача стояла навпаки і ми б не знали скільки в пачці Ммдемсок то потрібно використати умовний цикл\n",
    "Є пачка Ммдемсками і ми її їмо"
   ]
  },
  {
   "cell_type": "code",
   "execution_count": 78,
   "metadata": {},
   "outputs": [],
   "source": [
    "from random import shuffle\n",
    "i = randint(2, 5)\n",
    "mm = m_m * i # В пачці може бути від 10 до 25 Ммдемсок\n",
    "shuffle(mm)\n",
    "m_while = mm.copy()\n",
    "m_for = mm.copy()"
   ]
  },
  {
   "cell_type": "code",
   "execution_count": 79,
   "metadata": {},
   "outputs": [
    {
     "name": "stdout",
     "output_type": "stream",
     "text": [
      "Ми витягнули Ммдемску: Синій\n",
      "Ми витягнули Ммдемску: Синій\n",
      "Ми витягнули Ммдемску: Зелений\n",
      "Ми витягнули Ммдемску: Жовтий\n",
      "Ми витягнули Ммдемску: Коричневий\n",
      "Ми витягнули Ммдемску: Коричневий\n",
      "Ми витягнули Ммдемску: Червоний\n",
      "Ми витягнули Ммдемску: Коричневий\n",
      "Ми витягнули Ммдемску: Синій\n",
      "Ми витягнули Ммдемску: Червоний\n",
      "Ми витягнули Ммдемску: Зелений\n",
      "Ми витягнули Ммдемску: Червоний\n",
      "Ми витягнули Ммдемску: Жовтий\n",
      "Ми витягнули Ммдемску: Коричневий\n",
      "Ми витягнули Ммдемску: Червоний\n",
      "Ми витягнули Ммдемску: Зелений\n",
      "Ми витягнули Ммдемску: Зелений\n",
      "Ми витягнули Ммдемску: Червоний\n",
      "Ми витягнули Ммдемску: Жовтий\n",
      "Ми витягнули Ммдемску: Синій\n",
      "Ми витягнули Ммдемску: Синій\n",
      "Ми витягнули Ммдемску: Жовтий\n",
      "Ми витягнули Ммдемску: Зелений\n",
      "Ми витягнули Ммдемску: Коричневий\n",
      "Ми витягнули Ммдемску: Жовтий\n"
     ]
    }
   ],
   "source": [
    "while len(m_while) > 0:\n",
    "    print(f\"Ми витягнули Ммдемску: {m_while.pop(0)}\")"
   ]
  },
  {
   "cell_type": "code",
   "execution_count": 80,
   "metadata": {},
   "outputs": [
    {
     "name": "stdout",
     "output_type": "stream",
     "text": [
      "Ми витягнули Ммдемску: Синій\n",
      "Ми витягнули Ммдемску: Синій\n",
      "Ми витягнули Ммдемску: Зелений\n",
      "Ми витягнули Ммдемску: Жовтий\n",
      "Ми витягнули Ммдемску: Коричневий\n",
      "Ми витягнули Ммдемску: Коричневий\n",
      "Ми витягнули Ммдемску: Червоний\n",
      "Ми витягнули Ммдемску: Коричневий\n",
      "Ми витягнули Ммдемску: Синій\n",
      "Ми витягнули Ммдемску: Червоний\n",
      "Ми витягнули Ммдемску: Зелений\n",
      "Ми витягнули Ммдемску: Червоний\n",
      "Ми витягнули Ммдемску: Жовтий\n",
      "Ми витягнули Ммдемску: Коричневий\n",
      "Ми витягнули Ммдемску: Червоний\n",
      "Ми витягнули Ммдемску: Зелений\n",
      "Ми витягнули Ммдемску: Зелений\n",
      "Ми витягнули Ммдемску: Червоний\n",
      "Ми витягнули Ммдемску: Жовтий\n",
      "Ми витягнули Ммдемску: Синій\n",
      "Ми витягнули Ммдемску: Синій\n",
      "Ми витягнули Ммдемску: Жовтий\n",
      "Ми витягнули Ммдемску: Зелений\n",
      "Ми витягнули Ммдемску: Коричневий\n",
      "Ми витягнули Ммдемску: Жовтий\n"
     ]
    }
   ],
   "source": [
    "for i in m_for:\n",
    "    print(f\"Ми витягнули Ммдемску: {i}\")"
   ]
  },
  {
   "cell_type": "markdown",
   "metadata": {},
   "source": [
    "- для того щоб у циклах додати певний функціонал, ми можемо: \n",
    "1. Перервати цикл перш ніж він виконає всі ітерації: `break`\n",
    "2. або можемо уникнути певну ітерацію за допомогою - `continue`\n",
    "\n",
    "- Ми кидаємо кубик 5 раз або поки нам не випаде 3"
   ]
  },
  {
   "cell_type": "code",
   "execution_count": 81,
   "metadata": {},
   "outputs": [
    {
     "name": "stdout",
     "output_type": "stream",
     "text": [
      "1) Нам випало число на кубику: 2\n",
      "2) Нам випало число на кубику: 5\n",
      "3) Нам випало число на кубику: 1\n",
      "4) Нам випало число на кубику: 2\n",
      "5) Нам випало число на кубику: 2\n"
     ]
    }
   ],
   "source": [
    "for i in range(5):\n",
    "    k = randint(1, 6)\n",
    "    print(f\"{i+1}) Нам випало число на кубику: {k}\")\n",
    "    if k == 3:\n",
    "        print(\"Нам випало те що ми хотіли\")\n",
    "        break"
   ]
  },
  {
   "cell_type": "code",
   "execution_count": 82,
   "metadata": {},
   "outputs": [
    {
     "name": "stdout",
     "output_type": "stream",
     "text": [
      "1) Нам випало число на кубику: 6\n",
      "2) Нам випало число на кубику: 3\n",
      "Нам випало те що ми хотіли\n"
     ]
    }
   ],
   "source": [
    "i = 0\n",
    "while i < 5:\n",
    "    k = randint(1, 6)\n",
    "    print(f\"{i+1}) Нам випало число на кубику: {k}\")\n",
    "    i += 1\n",
    "    if k == 3:\n",
    "        print(\"Нам випало те що ми хотіли\")\n",
    "        break"
   ]
  },
  {
   "cell_type": "code",
   "execution_count": 83,
   "metadata": {},
   "outputs": [
    {
     "name": "stdout",
     "output_type": "stream",
     "text": [
      "Нам випало число на кубику: 1\n",
      "Нам випало число на кубику: 6\n",
      "Нам випало число на кубику: 2\n",
      "Нам випало число на кубику: 2\n",
      "Нам випало число на кубику: 1\n",
      "Ми використали 5 спроб і останнє шо нам випало: 1\n"
     ]
    }
   ],
   "source": [
    "k = None\n",
    "i = 0\n",
    "while k != 3 and i < 5: # Цикл завершеться якщо одна з умов не виконається\n",
    "    k = randint(1, 6)\n",
    "    print(f\"Нам випало число на кубику: {k}\")\n",
    "    i += 1\n",
    "\n",
    "print(f\"Ми використали {i} спроб і останнє шо нам випало: {k}\")"
   ]
  },
  {
   "cell_type": "markdown",
   "metadata": {},
   "source": [
    "Задання/генерація масивів даних за допомогою циклів (list comperehantion)\n",
    "- деякі такі записи називають однострічковими (one-liner)"
   ]
  },
  {
   "cell_type": "code",
   "execution_count": 84,
   "metadata": {},
   "outputs": [
    {
     "name": "stdout",
     "output_type": "stream",
     "text": [
      "[0, 1, 2, 3, 4, 5, 6, 7, 8, 9]\n",
      "['Значення: 0', 'Значення: 1', 'Значення: 2', 'Значення: 3', 'Значення: 4', 'Значення: 5', 'Значення: 6', 'Значення: 7', 'Значення: 8', 'Значення: 9']\n",
      "['Значення: 0', 'Значення: 1', 'Значення: 2', 'Значення: 3', 'Значення: 4', 'Значення: 5', 'Значення: 6', 'Значення: 7', 'Значення: 8', 'Значення: 9']\n",
      "['0) ', '1) ', '2) ', '3) ', '4) ']\n",
      "['H', 'E', 'L', 'L', 'O']\n"
     ]
    }
   ],
   "source": [
    "i = range(10)\n",
    "print(list(i))\n",
    "j = [f\"Значення: {i}\" for i in range(10)]\n",
    "print(j)\n",
    "j = []\n",
    "for i in range(10):\n",
    "    j.append(f\"Значення: {i}\")\n",
    "print(j)\n",
    "\n",
    "def i_j(a):\n",
    "    return f\"{a}) \"\n",
    "\n",
    "j = [i_j(i) for i in range(5)]\n",
    "print(j)\n",
    "\n",
    "j = [i.capitalize() for i in [\"H\", \"e\", \"l\", \"l\", \"o\"]]\n",
    "print(j)"
   ]
  },
  {
   "cell_type": "markdown",
   "metadata": {},
   "source": [
    "### Розгалуження \n",
    "- банальні if які існують у будь-якій мові програмування\n",
    "- найчастіше if замінює оператор switch у інших мовах\n",
    "- по канонічному if else повинні застосовуватись у парі, але зазвичай умови роблять лише з if\n",
    "IF\n",
    "- також для if застосувуються однострічкові вирази"
   ]
  },
  {
   "cell_type": "code",
   "execution_count": 85,
   "metadata": {},
   "outputs": [
    {
     "name": "stdout",
     "output_type": "stream",
     "text": [
      "Введено довге слово: Щось\n",
      "Зайшли у функцію\n",
      "Ми зайшли у розгалуження\n"
     ]
    }
   ],
   "source": [
    "i = 'Щось' #input(\"Введіть щось: \")\n",
    "\n",
    "if len(i) > 3:\n",
    "    print(f\"Введено довге слово: {i}\")\n",
    "\n",
    "def example(a):\n",
    "    print(\"Зайшли у функцію\")\n",
    "    if a > 2:\n",
    "        print(\"Ми зайшли у розгалуження\")\n",
    "        return\n",
    "    # else:\n",
    "    #     print(\"Це буде виконуватись якщо не заходимо у if\")\n",
    "    print(\"Це буде виконуватись якщо не заходимо у if\")\n",
    "\n",
    "example(len(i))"
   ]
  },
  {
   "cell_type": "code",
   "execution_count": 86,
   "metadata": {},
   "outputs": [
    {
     "name": "stdout",
     "output_type": "stream",
     "text": [
      "Значення хибності\n"
     ]
    },
    {
     "data": {
      "text/plain": [
       "['Вивести цей вираз']"
      ]
     },
     "execution_count": 86,
     "metadata": {},
     "output_type": "execute_result"
    }
   ],
   "source": [
    "# Все що не є False, None або 0 вважається True\n",
    "if None:\n",
    "    print(\"Значення істиності\")\n",
    "else:\n",
    "    print(\"Значення хибності\")\n",
    "\n",
    "[\"Вивести цей вираз\" if len(\"Умова має виконуватись\") > 5 else \"а у іншому випадку цей\"]"
   ]
  },
  {
   "cell_type": "code",
   "execution_count": 87,
   "metadata": {},
   "outputs": [
    {
     "name": "stdout",
     "output_type": "stream",
     "text": [
      "Значення не є пустим\n"
     ]
    }
   ],
   "source": [
    "e = \"1\" # \" \"\n",
    "if len(e):\n",
    "    print(\"Значення не є пустим\")\n",
    "elif e == 1:\n",
    "    print(\"Умова 2\")\n",
    "else:\n",
    "    print(f\"Значення було: {e}\")"
   ]
  },
  {
   "cell_type": "markdown",
   "metadata": {},
   "source": [
    "### Виловлювання помилок"
   ]
  },
  {
   "cell_type": "code",
   "execution_count": 88,
   "metadata": {},
   "outputs": [
    {
     "name": "stdout",
     "output_type": "stream",
     "text": [
      "Виникла одна з двох помилок: unsupported operand type(s) for +: 'int' and 'str'\n"
     ]
    }
   ],
   "source": [
    "#a = print(\")\n",
    "#False = 1\n",
    "i = randint(1,2)\n",
    "\n",
    "try:\n",
    "    if  i == 1:\n",
    "        a = 1 + \"1\"\n",
    "    else:\n",
    "        a = 1 / 0\n",
    "    print(a)\n",
    "# except Exception as e:\n",
    "#     print(f\"Ми використали неправильну операцію і отримали: {e}\")\n",
    "except (TypeError, ZeroDivisionError) as e:\n",
    "    print(f\"Виникла одна з двох помилок: {e}\")"
   ]
  },
  {
   "cell_type": "markdown",
   "metadata": {},
   "source": [
    "- Остання частинка конструкції try це є очищувач (приберальник) finally - він буде виконуватись завжди незалежно чи була помилка чи ні"
   ]
  },
  {
   "cell_type": "code",
   "execution_count": 89,
   "metadata": {},
   "outputs": [
    {
     "name": "stdout",
     "output_type": "stream",
     "text": [
      "Тут помилки немає\n",
      "Це виконається завжди!\n"
     ]
    }
   ],
   "source": [
    "try:\n",
    "    #raise TypeError(\"Так не можна робити\")\n",
    "    print(\"Тут помилки немає\")\n",
    "except Exception as e:\n",
    "    print(f\"Це завжди обробник помилки: {e}\")\n",
    "finally:\n",
    "    print(\"Це виконається завжди!\")"
   ]
  },
  {
   "cell_type": "code",
   "execution_count": 90,
   "metadata": {},
   "outputs": [
    {
     "name": "stdout",
     "output_type": "stream",
     "text": [
      "0) ітерація\n",
      "1) ітерація\n",
      "2) ітерація\n",
      "3) ітерація\n",
      "4) ітерація\n",
      "Виконується завди після циклу\n"
     ]
    }
   ],
   "source": [
    "for i in range(5):\n",
    "    print(f\"{i}) ітерація\")\n",
    "else:\n",
    "    print(\"Виконується завди після циклу\")"
   ]
  },
  {
   "cell_type": "markdown",
   "metadata": {},
   "source": [
    "### Контекст менеджери\n",
    "- є багато програм які вимагають узгодженої взаємодії\n",
    "- найбільш яскравим прикладом узгодженої взаємодії це робота з файлами - відкрити - зробити щось - закрити"
   ]
  },
  {
   "cell_type": "code",
   "execution_count": 97,
   "metadata": {},
   "outputs": [
    {
     "name": "stdout",
     "output_type": "stream",
     "text": [
      "Це перший рядок Дописуємо цю стрічку\n",
      "\n",
      "\tДописуємо цю стрічку\n",
      "\n",
      "І ще одну\n"
     ]
    }
   ],
   "source": [
    "f = open(\"test.txt\", 'a', encoding='utf-8')\n",
    "f.write(\"\\n\\tДописуємо цю стрічку\")\n",
    "f.write(\"\\nІ ще одну\")\n",
    "f.close()\n",
    "\n",
    "f = open(\"test.txt\", \"+r\", encoding='utf-8')\n",
    "for line in f.readlines():\n",
    "    print(line)\n",
    "f.close()"
   ]
  },
  {
   "cell_type": "code",
   "execution_count": 100,
   "metadata": {},
   "outputs": [
    {
     "name": "stdout",
     "output_type": "stream",
     "text": [
      "Це перший рядок Дописуємо цю стрічку\n",
      "\n",
      "\tДописуємо цю стрічку\n",
      "\n",
      "І ще одну\n"
     ]
    }
   ],
   "source": [
    "with open('test.txt', 'r', encoding='utf-8') as fa:\n",
    "    # тіло контекст менеджера, все що є тут буде працювати з файлом\n",
    "    for i in fa.readlines():\n",
    "        print(i)\n",
    "\n",
    "# fa.readline() # Ось тут я вже до файла не зможу доступитись, бо він вже закритий"
   ]
  }
 ],
 "metadata": {
  "kernelspec": {
   "display_name": "Python 3",
   "language": "python",
   "name": "python3"
  },
  "language_info": {
   "codemirror_mode": {
    "name": "ipython",
    "version": 3
   },
   "file_extension": ".py",
   "mimetype": "text/x-python",
   "name": "python",
   "nbconvert_exporter": "python",
   "pygments_lexer": "ipython3",
   "version": "3.12.5"
  }
 },
 "nbformat": 4,
 "nbformat_minor": 2
}
