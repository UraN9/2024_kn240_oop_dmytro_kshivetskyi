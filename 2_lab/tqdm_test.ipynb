{
 "cells": [
  {
   "cell_type": "code",
   "execution_count": 1,
   "id": "17d5e95a",
   "metadata": {},
   "outputs": [],
   "source": [
    "from tqdm import tqdm\n",
    "from time import sleep"
   ]
  },
  {
   "cell_type": "code",
   "execution_count": 2,
   "id": "2d747f03",
   "metadata": {},
   "outputs": [
    {
     "name": "stderr",
     "output_type": "stream",
     "text": [
      "100%|██████████| 4/4 [00:04<00:00,  1.03s/it]\n"
     ]
    }
   ],
   "source": [
    "l = [1, 2, 3, 4]\n",
    "\n",
    "\n",
    "for i in tqdm(l):\n",
    "    sleep(1)"
   ]
  },
  {
   "cell_type": "code",
   "execution_count": 3,
   "id": "c579d892",
   "metadata": {},
   "outputs": [
    {
     "name": "stderr",
     "output_type": "stream",
     "text": [
      "100%|██████████| 5/5 [00:05<00:00,  1.00s/it]\n"
     ]
    }
   ],
   "source": [
    "r = range(5)\n",
    "for i in tqdm(r):\n",
    "    sleep(1)"
   ]
  },
  {
   "cell_type": "code",
   "execution_count": 4,
   "id": "00af6f56",
   "metadata": {},
   "outputs": [
    {
     "name": "stdout",
     "output_type": "stream",
     "text": [
      "0: імя потоку=ThreadPoolExecutor-0_0\n"
     ]
    },
    {
     "data": {
      "application/vnd.jupyter.widget-view+json": {
       "model_id": "42d07043b95f4b08bdd492968cfbcc9b",
       "version_major": 2,
       "version_minor": 0
      },
      "text/plain": [
       "Ітерація в треді: 0it [00:00, ?it/s]"
      ]
     },
     "metadata": {},
     "output_type": "display_data"
    },
    {
     "name": "stdout",
     "output_type": "stream",
     "text": [
      "1: імя потоку=ThreadPoolExecutor-0_0\n"
     ]
    },
    {
     "data": {
      "application/vnd.jupyter.widget-view+json": {
       "model_id": "3306b637e74449cfbc7a9fcbd0ac0479",
       "version_major": 2,
       "version_minor": 0
      },
      "text/plain": [
       "Ітерація в треді:   0%|          | 0/1 [00:00<?, ?it/s]"
      ]
     },
     "metadata": {},
     "output_type": "display_data"
    },
    {
     "name": "stdout",
     "output_type": "stream",
     "text": [
      "2: імя потоку=ThreadPoolExecutor-0_1\n"
     ]
    },
    {
     "data": {
      "application/vnd.jupyter.widget-view+json": {
       "model_id": "4accdf61e4584eb39957cd028d0eceab",
       "version_major": 2,
       "version_minor": 0
      },
      "text/plain": [
       "Ітерація в треді:   0%|          | 0/2 [00:00<?, ?it/s]"
      ]
     },
     "metadata": {},
     "output_type": "display_data"
    },
    {
     "data": {
      "application/vnd.jupyter.widget-view+json": {
       "model_id": "a94b30f80a2d4858b525ccad3f0c8b74",
       "version_major": 2,
       "version_minor": 0
      },
      "text/plain": [
       "Start>>>:   0%|          | 0/10 [00:00<?, ?it/s]"
      ]
     },
     "metadata": {},
     "output_type": "display_data"
    },
    {
     "name": "stdout",
     "output_type": "stream",
     "text": [
      "3: імя потоку=ThreadPoolExecutor-0_0\n"
     ]
    },
    {
     "data": {
      "application/vnd.jupyter.widget-view+json": {
       "model_id": "fedc5f2acbc74ca48679831f32ed684a",
       "version_major": 2,
       "version_minor": 0
      },
      "text/plain": [
       "Ітерація в треді:   0%|          | 0/3 [00:00<?, ?it/s]"
      ]
     },
     "metadata": {},
     "output_type": "display_data"
    },
    {
     "name": "stdout",
     "output_type": "stream",
     "text": [
      "4: імя потоку=ThreadPoolExecutor-0_1\n"
     ]
    },
    {
     "data": {
      "application/vnd.jupyter.widget-view+json": {
       "model_id": "e92a26fad2a64c6996c704b194156748",
       "version_major": 2,
       "version_minor": 0
      },
      "text/plain": [
       "Ітерація в треді:   0%|          | 0/4 [00:00<?, ?it/s]"
      ]
     },
     "metadata": {},
     "output_type": "display_data"
    },
    {
     "name": "stdout",
     "output_type": "stream",
     "text": [
      "5: імя потоку=ThreadPoolExecutor-0_0\n"
     ]
    },
    {
     "data": {
      "application/vnd.jupyter.widget-view+json": {
       "model_id": "3328b1ee24ec400b86fa3574bc8a1e4f",
       "version_major": 2,
       "version_minor": 0
      },
      "text/plain": [
       "Ітерація в треді:   0%|          | 0/5 [00:00<?, ?it/s]"
      ]
     },
     "metadata": {},
     "output_type": "display_data"
    },
    {
     "name": "stdout",
     "output_type": "stream",
     "text": [
      "6: імя потоку=ThreadPoolExecutor-0_1\n"
     ]
    },
    {
     "data": {
      "application/vnd.jupyter.widget-view+json": {
       "model_id": "eda74cc423fd4aa7982a4c16216245a1",
       "version_major": 2,
       "version_minor": 0
      },
      "text/plain": [
       "Ітерація в треді:   0%|          | 0/6 [00:00<?, ?it/s]"
      ]
     },
     "metadata": {},
     "output_type": "display_data"
    },
    {
     "name": "stdout",
     "output_type": "stream",
     "text": [
      "7: імя потоку=ThreadPoolExecutor-0_0\n"
     ]
    },
    {
     "data": {
      "application/vnd.jupyter.widget-view+json": {
       "model_id": "4a3cfabf9ec04caa888d08fca3c49894",
       "version_major": 2,
       "version_minor": 0
      },
      "text/plain": [
       "Ітерація в треді:   0%|          | 0/7 [00:00<?, ?it/s]"
      ]
     },
     "metadata": {},
     "output_type": "display_data"
    },
    {
     "name": "stdout",
     "output_type": "stream",
     "text": [
      "8: імя потоку=ThreadPoolExecutor-0_1\n"
     ]
    },
    {
     "data": {
      "application/vnd.jupyter.widget-view+json": {
       "model_id": "65cee64e6f2b401fb13c9d69acd2b487",
       "version_major": 2,
       "version_minor": 0
      },
      "text/plain": [
       "Ітерація в треді:   0%|          | 0/8 [00:00<?, ?it/s]"
      ]
     },
     "metadata": {},
     "output_type": "display_data"
    },
    {
     "name": "stdout",
     "output_type": "stream",
     "text": [
      "9: імя потоку=ThreadPoolExecutor-0_0\n"
     ]
    },
    {
     "data": {
      "application/vnd.jupyter.widget-view+json": {
       "model_id": "6e99ad16d37b468ab12843adf224d1cb",
       "version_major": 2,
       "version_minor": 0
      },
      "text/plain": [
       "Ітерація в треді:   0%|          | 0/9 [00:00<?, ?it/s]"
      ]
     },
     "metadata": {},
     "output_type": "display_data"
    }
   ],
   "source": [
    "from concurrent.futures import ThreadPoolExecutor\n",
    "from threading import current_thread\n",
    "import math\n",
    "from tqdm.notebook import tqdm\n",
    "\n",
    "def check_thread(v):\n",
    "    \"\"\"Функція для багатопоточночті через треди\n",
    "    \"\"\"\n",
    "    thread = current_thread()\n",
    "    print(f\"{v}: імя потоку={thread.name}\")\n",
    "    for _ in tqdm(range(v), desc=\"Ітерація в треді\", leave=False):\n",
    "        sleep(1)\n",
    "    a = math.sqrt(64^v)\n",
    "    return a\n",
    "\n",
    "with ThreadPoolExecutor(max_workers=2) as executor:\n",
    "    list(tqdm(executor.map(check_thread, range(10)), total=10, desc=\"Start>>>\"))"
   ]
  },
  {
   "cell_type": "code",
   "execution_count": 5,
   "id": "ce1ea80c",
   "metadata": {},
   "outputs": [
    {
     "data": {
      "application/vnd.jupyter.widget-view+json": {
       "model_id": "e7005abbd6be48438d771c6c31878109",
       "version_major": 2,
       "version_minor": 0
      },
      "text/plain": [
       "Загальний прогрес:   0%|          | 0/5 [00:00<?, ?it/s]"
      ]
     },
     "metadata": {},
     "output_type": "display_data"
    },
    {
     "data": {
      "application/vnd.jupyter.widget-view+json": {
       "model_id": "4d8e35b0603d46728be56ee0fc03e57e",
       "version_major": 2,
       "version_minor": 0
      },
      "text/plain": [
       "Внутрішня ітерація:   0%|          | 0/10 [00:00<?, ?it/s]"
      ]
     },
     "metadata": {},
     "output_type": "display_data"
    },
    {
     "data": {
      "application/vnd.jupyter.widget-view+json": {
       "model_id": "658d5b185ca14543975354a9d3b70654",
       "version_major": 2,
       "version_minor": 0
      },
      "text/plain": [
       "Внутрішня ітерація:   0%|          | 0/10 [00:00<?, ?it/s]"
      ]
     },
     "metadata": {},
     "output_type": "display_data"
    },
    {
     "data": {
      "application/vnd.jupyter.widget-view+json": {
       "model_id": "0fd0db91936d4ea68d0784a051cfd82e",
       "version_major": 2,
       "version_minor": 0
      },
      "text/plain": [
       "Внутрішня ітерація:   0%|          | 0/10 [00:00<?, ?it/s]"
      ]
     },
     "metadata": {},
     "output_type": "display_data"
    },
    {
     "data": {
      "application/vnd.jupyter.widget-view+json": {
       "model_id": "cc1996e7846248eb85cba1a4130c8ca9",
       "version_major": 2,
       "version_minor": 0
      },
      "text/plain": [
       "Внутрішня ітерація:   0%|          | 0/10 [00:00<?, ?it/s]"
      ]
     },
     "metadata": {},
     "output_type": "display_data"
    },
    {
     "data": {
      "application/vnd.jupyter.widget-view+json": {
       "model_id": "f52c03296da3455e85b0ff416a0e301a",
       "version_major": 2,
       "version_minor": 0
      },
      "text/plain": [
       "Внутрішня ітерація:   0%|          | 0/10 [00:00<?, ?it/s]"
      ]
     },
     "metadata": {},
     "output_type": "display_data"
    }
   ],
   "source": [
    "for i in tqdm(range(5), desc=\"Загальний прогрес\"):\n",
    "    for j in tqdm(range(10), desc=\"Внутрішня ітерація\", leave=False):\n",
    "        sleep(0.1)"
   ]
  },
  {
   "cell_type": "code",
   "execution_count": 30,
   "id": "ca9c65d6",
   "metadata": {},
   "outputs": [
    {
     "name": "stdout",
     "output_type": "stream",
     "text": [
      "Ітерація 1\n",
      "Перший прінт: 2\n",
      "Ітерація 0\n",
      "Вивід з циклу, 0 будемо мати генаратор 1\n",
      "Ітерація 1\n",
      "Вивід з циклу, 1 будемо мати генаратор 2\n",
      "Ітерація 2\n",
      "Вивід з циклу, 2 будемо мати генаратор 3\n",
      "Ітерація 3\n",
      "Вивід з циклу, 3 будемо мати генаратор 4\n",
      "Ітерація 4\n",
      "Вивід з циклу, 4 будемо мати генаратор 5\n",
      "Ітерація 5\n",
      "Вивід з циклу, 5 будемо мати генаратор 6\n",
      "Ітерація 6\n",
      "Вивід з циклу, 6 будемо мати генаратор 7\n",
      "Ітерація 7\n",
      "Вивід з циклу, 7 будемо мати генаратор 8\n",
      "Ітерація 8\n",
      "Вивід з циклу, 8 будемо мати генаратор 9\n",
      "Ітерація 9\n",
      "Вивід з циклу, 9 будемо мати генаратор 10\n"
     ]
    }
   ],
   "source": [
    "def my_generator(x):\n",
    "    print(f\"Ітерація {x}\")\n",
    "    yield x+1\n",
    "    print(f\"Після yield\")\n",
    "\n",
    "print(f\"Перший прінт: {next(my_generator(1))}\")\n",
    "\n",
    "g = my_generator\n",
    "for i in range(10):\n",
    "    print(f\"Вивід з циклу, {i} будемо мати генаратор {next(g(i))}\")"
   ]
  },
  {
   "cell_type": "code",
   "execution_count": 34,
   "id": "174655f4",
   "metadata": {},
   "outputs": [],
   "source": [
    "def my_gen_test():\n",
    "    for i in [1,4,5]:\n",
    "        print (\"Перед yield\")\n",
    "        sleep(2)\n",
    "        yield i\n",
    "        print(\"Після yield\")\n",
    "        sleep(2)\n",
    "\n",
    "    return None"
   ]
  },
  {
   "cell_type": "code",
   "execution_count": 35,
   "id": "96aa74c6",
   "metadata": {},
   "outputs": [
    {
     "name": "stdout",
     "output_type": "stream",
     "text": [
      "Перед yield\n",
      "Вивід з генератора:  1\n",
      "Після yield\n",
      "Перед yield\n",
      "Вивід з генератора:  4\n",
      "Після yield\n",
      "Перед yield\n",
      "Вивід з генератора:  5\n",
      "Після yield\n"
     ]
    }
   ],
   "source": [
    "for m in my_gen_test():\n",
    "    print (f\"Вивід з генератора:  {m}\")"
   ]
  },
  {
   "cell_type": "code",
   "execution_count": null,
   "id": "7a5b228b",
   "metadata": {},
   "outputs": [
    {
     "data": {
      "text/plain": [
       "4"
      ]
     },
     "execution_count": 24,
     "metadata": {},
     "output_type": "execute_result"
    }
   ],
   "source": [
    "i = my_gen_test()\n",
    "next(i)\n",
    "next(i)\n",
    "next(i)"
   ]
  },
  {
   "cell_type": "code",
   "execution_count": null,
   "id": "439457b1",
   "metadata": {},
   "outputs": [
    {
     "name": "stdout",
     "output_type": "stream",
     "text": [
      "['1', ' test', ' 18', ' end']\n",
      "['2', ' tt', ' 00', ' new']\n"
     ]
    }
   ],
   "source": [
    "import csv\n",
    "\n",
    "f = csv.reader(open(\"1.csv\"))\n",
    "\n",
    "for s in f:\n",
    "    print(s)"
   ]
  },
  {
   "cell_type": "code",
   "execution_count": 44,
   "id": "d8ca6ed4",
   "metadata": {},
   "outputs": [
    {
     "name": "stdout",
     "output_type": "stream",
     "text": [
      "[['1', ' test', ' 18', ' end'], ['2', ' tt', ' 00', ' new']]\n"
     ]
    }
   ],
   "source": [
    "def get_csv():\n",
    "    # with open(\"1.csv\") as c:\n",
    "    #     for s in csv.reader(c):\n",
    "    #         yield s\n",
    "    yield [s for s in csv.reader(open('1.csv'))]\n",
    "    \n",
    "for ss in get_csv():\n",
    "    print (list(ss))"
   ]
  }
 ],
 "metadata": {
  "kernelspec": {
   "display_name": "Python 3",
   "language": "python",
   "name": "python3"
  },
  "language_info": {
   "codemirror_mode": {
    "name": "ipython",
    "version": 3
   },
   "file_extension": ".py",
   "mimetype": "text/x-python",
   "name": "python",
   "nbconvert_exporter": "python",
   "pygments_lexer": "ipython3",
   "version": "3.13.2"
  }
 },
 "nbformat": 4,
 "nbformat_minor": 5
}
