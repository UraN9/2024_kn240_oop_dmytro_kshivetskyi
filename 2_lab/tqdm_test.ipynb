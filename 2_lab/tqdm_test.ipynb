{
 "cells": [
  {
   "cell_type": "code",
   "execution_count": 1,
   "id": "17d5e95a",
   "metadata": {},
   "outputs": [],
   "source": [
    "from tqdm import tqdm\n",
    "from time import sleep"
   ]
  },
  {
   "cell_type": "code",
   "execution_count": 2,
   "id": "2d747f03",
   "metadata": {},
   "outputs": [
    {
     "name": "stderr",
     "output_type": "stream",
     "text": [
      "100%|██████████| 4/4 [00:04<00:00,  1.01s/it]\n"
     ]
    }
   ],
   "source": [
    "l = [1, 2, 3, 4]\n",
    "\n",
    "\n",
    "for i in tqdm(l):\n",
    "    sleep(1)"
   ]
  },
  {
   "cell_type": "code",
   "execution_count": 3,
   "id": "c579d892",
   "metadata": {},
   "outputs": [
    {
     "name": "stderr",
     "output_type": "stream",
     "text": [
      "100%|██████████| 5/5 [00:05<00:00,  1.01s/it]\n"
     ]
    }
   ],
   "source": [
    "r = range(5)\n",
    "for i in tqdm(r):\n",
    "    sleep(1)"
   ]
  },
  {
   "cell_type": "code",
   "execution_count": 4,
   "id": "00af6f56",
   "metadata": {},
   "outputs": [
    {
     "name": "stdout",
     "output_type": "stream",
     "text": [
      "0: імя потоку=ThreadPoolExecutor-0_0\n",
      "1: імя потоку=ThreadPoolExecutor-0_1\n"
     ]
    },
    {
     "data": {
      "application/vnd.jupyter.widget-view+json": {
       "model_id": "70aae484f69c4d7a8db3609d32ef3634",
       "version_major": 2,
       "version_minor": 0
      },
      "text/plain": [
       "Start>>>:   0%|          | 0/10 [00:00<?, ?it/s]"
      ]
     },
     "metadata": {},
     "output_type": "display_data"
    },
    {
     "data": {
      "application/vnd.jupyter.widget-view+json": {
       "model_id": "1519b06142234813abbc4b820acd2b29",
       "version_major": 2,
       "version_minor": 0
      },
      "text/plain": [
       "Ітерація в треді: 0it [00:00, ?it/s]"
      ]
     },
     "metadata": {},
     "output_type": "display_data"
    },
    {
     "data": {
      "application/vnd.jupyter.widget-view+json": {
       "model_id": "8ab9f3a9154e43719768ae13045099cb",
       "version_major": 2,
       "version_minor": 0
      },
      "text/plain": [
       "Ітерація в треді:   0%|          | 0/1 [00:00<?, ?it/s]"
      ]
     },
     "metadata": {},
     "output_type": "display_data"
    },
    {
     "name": "stdout",
     "output_type": "stream",
     "text": [
      "2: імя потоку=ThreadPoolExecutor-0_0\n"
     ]
    },
    {
     "data": {
      "application/vnd.jupyter.widget-view+json": {
       "model_id": "77b82dc4c9544cf5b59e7110d69d115e",
       "version_major": 2,
       "version_minor": 0
      },
      "text/plain": [
       "Ітерація в треді:   0%|          | 0/2 [00:00<?, ?it/s]"
      ]
     },
     "metadata": {},
     "output_type": "display_data"
    },
    {
     "name": "stdout",
     "output_type": "stream",
     "text": [
      "3: імя потоку=ThreadPoolExecutor-0_1\n"
     ]
    },
    {
     "data": {
      "application/vnd.jupyter.widget-view+json": {
       "model_id": "9892204f320e436e9bdf6520c46c606a",
       "version_major": 2,
       "version_minor": 0
      },
      "text/plain": [
       "Ітерація в треді:   0%|          | 0/3 [00:00<?, ?it/s]"
      ]
     },
     "metadata": {},
     "output_type": "display_data"
    },
    {
     "name": "stdout",
     "output_type": "stream",
     "text": [
      "4: імя потоку=ThreadPoolExecutor-0_0\n"
     ]
    },
    {
     "data": {
      "application/vnd.jupyter.widget-view+json": {
       "model_id": "c55430961c024cfaacd3d85a1f4c7755",
       "version_major": 2,
       "version_minor": 0
      },
      "text/plain": [
       "Ітерація в треді:   0%|          | 0/4 [00:00<?, ?it/s]"
      ]
     },
     "metadata": {},
     "output_type": "display_data"
    },
    {
     "name": "stdout",
     "output_type": "stream",
     "text": [
      "5: імя потоку=ThreadPoolExecutor-0_1\n"
     ]
    },
    {
     "data": {
      "application/vnd.jupyter.widget-view+json": {
       "model_id": "3b150e5f44eb4d968668610e0631b9e1",
       "version_major": 2,
       "version_minor": 0
      },
      "text/plain": [
       "Ітерація в треді:   0%|          | 0/5 [00:00<?, ?it/s]"
      ]
     },
     "metadata": {},
     "output_type": "display_data"
    },
    {
     "name": "stdout",
     "output_type": "stream",
     "text": [
      "6: імя потоку=ThreadPoolExecutor-0_0\n"
     ]
    },
    {
     "data": {
      "application/vnd.jupyter.widget-view+json": {
       "model_id": "f846771146354d7dbec8605aed075ec1",
       "version_major": 2,
       "version_minor": 0
      },
      "text/plain": [
       "Ітерація в треді:   0%|          | 0/6 [00:00<?, ?it/s]"
      ]
     },
     "metadata": {},
     "output_type": "display_data"
    },
    {
     "name": "stdout",
     "output_type": "stream",
     "text": [
      "7: імя потоку=ThreadPoolExecutor-0_1\n"
     ]
    },
    {
     "data": {
      "application/vnd.jupyter.widget-view+json": {
       "model_id": "fd0b7bdfe7164a339a4f5e06d7b58463",
       "version_major": 2,
       "version_minor": 0
      },
      "text/plain": [
       "Ітерація в треді:   0%|          | 0/7 [00:00<?, ?it/s]"
      ]
     },
     "metadata": {},
     "output_type": "display_data"
    },
    {
     "name": "stdout",
     "output_type": "stream",
     "text": [
      "8: імя потоку=ThreadPoolExecutor-0_0\n"
     ]
    },
    {
     "data": {
      "application/vnd.jupyter.widget-view+json": {
       "model_id": "132ff4f1a99c4ef68a75f295d151b7f1",
       "version_major": 2,
       "version_minor": 0
      },
      "text/plain": [
       "Ітерація в треді:   0%|          | 0/8 [00:00<?, ?it/s]"
      ]
     },
     "metadata": {},
     "output_type": "display_data"
    },
    {
     "name": "stdout",
     "output_type": "stream",
     "text": [
      "9: імя потоку=ThreadPoolExecutor-0_1\n"
     ]
    },
    {
     "data": {
      "application/vnd.jupyter.widget-view+json": {
       "model_id": "71f5587313e54d74910eaa0202b70e23",
       "version_major": 2,
       "version_minor": 0
      },
      "text/plain": [
       "Ітерація в треді:   0%|          | 0/9 [00:00<?, ?it/s]"
      ]
     },
     "metadata": {},
     "output_type": "display_data"
    }
   ],
   "source": [
    "from concurrent.futures import ThreadPoolExecutor\n",
    "from threading import current_thread\n",
    "import math\n",
    "from tqdm.notebook import tqdm\n",
    "\n",
    "def check_thread(v):\n",
    "    \"\"\"Функція для багатопоточночті через треди\n",
    "    \"\"\"\n",
    "    thread = current_thread()\n",
    "    print(f\"{v}: імя потоку={thread.name}\")\n",
    "    for _ in tqdm(range(v), desc=\"Ітерація в треді\", leave=False):\n",
    "        sleep(1)\n",
    "    a = math.sqrt(64^v)\n",
    "    return a\n",
    "\n",
    "with ThreadPoolExecutor(max_workers=2) as executor:\n",
    "    list(tqdm(executor.map(check_thread, range(10)), total=10, desc=\"Start>>>\"))"
   ]
  },
  {
   "cell_type": "code",
   "execution_count": 5,
   "id": "ce1ea80c",
   "metadata": {},
   "outputs": [
    {
     "data": {
      "application/vnd.jupyter.widget-view+json": {
       "model_id": "a48eb4759f64414e90f19f1c2f6b96bb",
       "version_major": 2,
       "version_minor": 0
      },
      "text/plain": [
       "Загальний прогрес:   0%|          | 0/5 [00:00<?, ?it/s]"
      ]
     },
     "metadata": {},
     "output_type": "display_data"
    },
    {
     "data": {
      "application/vnd.jupyter.widget-view+json": {
       "model_id": "47f7837ee14748ac988dc3b9be1b8506",
       "version_major": 2,
       "version_minor": 0
      },
      "text/plain": [
       "Внутрішня ітерація:   0%|          | 0/10 [00:00<?, ?it/s]"
      ]
     },
     "metadata": {},
     "output_type": "display_data"
    },
    {
     "data": {
      "application/vnd.jupyter.widget-view+json": {
       "model_id": "fb13bf44bc484292b1926415d5a8651b",
       "version_major": 2,
       "version_minor": 0
      },
      "text/plain": [
       "Внутрішня ітерація:   0%|          | 0/10 [00:00<?, ?it/s]"
      ]
     },
     "metadata": {},
     "output_type": "display_data"
    },
    {
     "data": {
      "application/vnd.jupyter.widget-view+json": {
       "model_id": "bd0b724ed7b3448184ffd5bdd8a2eaee",
       "version_major": 2,
       "version_minor": 0
      },
      "text/plain": [
       "Внутрішня ітерація:   0%|          | 0/10 [00:00<?, ?it/s]"
      ]
     },
     "metadata": {},
     "output_type": "display_data"
    },
    {
     "data": {
      "application/vnd.jupyter.widget-view+json": {
       "model_id": "32faccdceb2e4e7db3ef1902f5840468",
       "version_major": 2,
       "version_minor": 0
      },
      "text/plain": [
       "Внутрішня ітерація:   0%|          | 0/10 [00:00<?, ?it/s]"
      ]
     },
     "metadata": {},
     "output_type": "display_data"
    },
    {
     "data": {
      "application/vnd.jupyter.widget-view+json": {
       "model_id": "14a75a2fd52e495e88933ba586fe6506",
       "version_major": 2,
       "version_minor": 0
      },
      "text/plain": [
       "Внутрішня ітерація:   0%|          | 0/10 [00:00<?, ?it/s]"
      ]
     },
     "metadata": {},
     "output_type": "display_data"
    }
   ],
   "source": [
    "for i in tqdm(range(5), desc=\"Загальний прогрес\"):\n",
    "    for j in tqdm(range(10), desc=\"Внутрішня ітерація\", leave=False):\n",
    "        sleep(0.1)"
   ]
  }
 ],
 "metadata": {
  "kernelspec": {
   "display_name": "Python 3",
   "language": "python",
   "name": "python3"
  },
  "language_info": {
   "codemirror_mode": {
    "name": "ipython",
    "version": 3
   },
   "file_extension": ".py",
   "mimetype": "text/x-python",
   "name": "python",
   "nbconvert_exporter": "python",
   "pygments_lexer": "ipython3",
   "version": "3.13.2"
  }
 },
 "nbformat": 4,
 "nbformat_minor": 5
}
